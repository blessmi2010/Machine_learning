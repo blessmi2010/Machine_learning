{
  "nbformat": 4,
  "nbformat_minor": 0,
  "metadata": {
    "colab": {
      "provenance": []
    },
    "kernelspec": {
      "name": "python3",
      "display_name": "Python 3"
    },
    "language_info": {
      "name": "python"
    }
  },
  "cells": [
    {
      "cell_type": "code",
      "execution_count": null,
      "metadata": {
        "id": "coUM6i0td9Lw"
      },
      "outputs": [],
      "source": [
        "import numpy as np\n",
        "import pandas as pd\n",
        "import matplotlib.pyplot as plt\n",
        "import seaborn as sns\n",
        "from sklearn.preprocessing import LabelEncoder\n",
        "from sklearn.cluster import KMeans\n",
        "from scipy.cluster.hierarchy import linkage, dendrogram\n"
      ]
    },
    {
      "cell_type": "code",
      "source": [
        "train=pd.read_csv('/content/google_review_ratings.csv')"
      ],
      "metadata": {
        "id": "yk23hT1QgHOn"
      },
      "execution_count": null,
      "outputs": []
    },
    {
      "cell_type": "code",
      "source": [
        "train.info()"
      ],
      "metadata": {
        "colab": {
          "base_uri": "https://localhost:8080/"
        },
        "id": "7OWm9_iDgMOe",
        "outputId": "e7d2a732-fa5e-4b46-c626-ada5d4d5a0f6"
      },
      "execution_count": null,
      "outputs": [
        {
          "output_type": "stream",
          "name": "stdout",
          "text": [
            "<class 'pandas.core.frame.DataFrame'>\n",
            "RangeIndex: 5456 entries, 0 to 5455\n",
            "Data columns (total 25 columns):\n",
            " #   Column       Non-Null Count  Dtype  \n",
            "---  ------       --------------  -----  \n",
            " 0   User         5456 non-null   object \n",
            " 1   Category 1   5456 non-null   float64\n",
            " 2   Category 2   5456 non-null   float64\n",
            " 3   Category 3   5456 non-null   float64\n",
            " 4   Category 4   5456 non-null   float64\n",
            " 5   Category 5   5456 non-null   float64\n",
            " 6   Category 6   5456 non-null   float64\n",
            " 7   Category 7   5456 non-null   float64\n",
            " 8   Category 8   5456 non-null   float64\n",
            " 9   Category 9   5456 non-null   float64\n",
            " 10  Category 10  5456 non-null   float64\n",
            " 11  Category 11  5456 non-null   object \n",
            " 12  Category 12  5455 non-null   float64\n",
            " 13  Category 13  5456 non-null   float64\n",
            " 14  Category 14  5456 non-null   float64\n",
            " 15  Category 15  5456 non-null   float64\n",
            " 16  Category 16  5456 non-null   float64\n",
            " 17  Category 17  5456 non-null   float64\n",
            " 18  Category 18  5456 non-null   float64\n",
            " 19  Category 19  5456 non-null   float64\n",
            " 20  Category 20  5456 non-null   float64\n",
            " 21  Category 21  5456 non-null   float64\n",
            " 22  Category 22  5456 non-null   float64\n",
            " 23  Category 23  5456 non-null   float64\n",
            " 24  Category 24  5456 non-null   float64\n",
            "dtypes: float64(23), object(2)\n",
            "memory usage: 1.0+ MB\n"
          ]
        }
      ]
    },
    {
      "cell_type": "code",
      "source": [
        "train.dropna(inplace=True)"
      ],
      "metadata": {
        "id": "tkUrA2tUoZbV"
      },
      "execution_count": null,
      "outputs": []
    },
    {
      "cell_type": "code",
      "source": [
        "train.info()"
      ],
      "metadata": {
        "colab": {
          "base_uri": "https://localhost:8080/"
        },
        "id": "9Uaonts_ohoo",
        "outputId": "c246742a-5506-40b3-bea0-e0d2171c4a0f"
      },
      "execution_count": null,
      "outputs": [
        {
          "output_type": "stream",
          "name": "stdout",
          "text": [
            "<class 'pandas.core.frame.DataFrame'>\n",
            "Index: 5455 entries, 0 to 5455\n",
            "Data columns (total 25 columns):\n",
            " #   Column       Non-Null Count  Dtype  \n",
            "---  ------       --------------  -----  \n",
            " 0   User         5455 non-null   object \n",
            " 1   Category 1   5455 non-null   float64\n",
            " 2   Category 2   5455 non-null   float64\n",
            " 3   Category 3   5455 non-null   float64\n",
            " 4   Category 4   5455 non-null   float64\n",
            " 5   Category 5   5455 non-null   float64\n",
            " 6   Category 6   5455 non-null   float64\n",
            " 7   Category 7   5455 non-null   float64\n",
            " 8   Category 8   5455 non-null   float64\n",
            " 9   Category 9   5455 non-null   float64\n",
            " 10  Category 10  5455 non-null   float64\n",
            " 11  Category 11  5455 non-null   object \n",
            " 12  Category 12  5455 non-null   float64\n",
            " 13  Category 13  5455 non-null   float64\n",
            " 14  Category 14  5455 non-null   float64\n",
            " 15  Category 15  5455 non-null   float64\n",
            " 16  Category 16  5455 non-null   float64\n",
            " 17  Category 17  5455 non-null   float64\n",
            " 18  Category 18  5455 non-null   float64\n",
            " 19  Category 19  5455 non-null   float64\n",
            " 20  Category 20  5455 non-null   float64\n",
            " 21  Category 21  5455 non-null   float64\n",
            " 22  Category 22  5455 non-null   float64\n",
            " 23  Category 23  5455 non-null   float64\n",
            " 24  Category 24  5455 non-null   float64\n",
            "dtypes: float64(23), object(2)\n",
            "memory usage: 1.1+ MB\n"
          ]
        }
      ]
    },
    {
      "cell_type": "code",
      "source": [
        "train['Category 11']=train['Category 11'].astype('float')"
      ],
      "metadata": {
        "id": "lzBes5kXot67"
      },
      "execution_count": null,
      "outputs": []
    },
    {
      "cell_type": "code",
      "source": [
        "train.info()"
      ],
      "metadata": {
        "colab": {
          "base_uri": "https://localhost:8080/"
        },
        "id": "e-OM4nSQo-Vs",
        "outputId": "53e95164-496a-478a-d593-a419e5b2f684"
      },
      "execution_count": null,
      "outputs": [
        {
          "output_type": "stream",
          "name": "stdout",
          "text": [
            "<class 'pandas.core.frame.DataFrame'>\n",
            "Index: 5455 entries, 0 to 5455\n",
            "Data columns (total 25 columns):\n",
            " #   Column       Non-Null Count  Dtype  \n",
            "---  ------       --------------  -----  \n",
            " 0   User         5455 non-null   object \n",
            " 1   Category 1   5455 non-null   float64\n",
            " 2   Category 2   5455 non-null   float64\n",
            " 3   Category 3   5455 non-null   float64\n",
            " 4   Category 4   5455 non-null   float64\n",
            " 5   Category 5   5455 non-null   float64\n",
            " 6   Category 6   5455 non-null   float64\n",
            " 7   Category 7   5455 non-null   float64\n",
            " 8   Category 8   5455 non-null   float64\n",
            " 9   Category 9   5455 non-null   float64\n",
            " 10  Category 10  5455 non-null   float64\n",
            " 11  Category 11  5455 non-null   float64\n",
            " 12  Category 12  5455 non-null   float64\n",
            " 13  Category 13  5455 non-null   float64\n",
            " 14  Category 14  5455 non-null   float64\n",
            " 15  Category 15  5455 non-null   float64\n",
            " 16  Category 16  5455 non-null   float64\n",
            " 17  Category 17  5455 non-null   float64\n",
            " 18  Category 18  5455 non-null   float64\n",
            " 19  Category 19  5455 non-null   float64\n",
            " 20  Category 20  5455 non-null   float64\n",
            " 21  Category 21  5455 non-null   float64\n",
            " 22  Category 22  5455 non-null   float64\n",
            " 23  Category 23  5455 non-null   float64\n",
            " 24  Category 24  5455 non-null   float64\n",
            "dtypes: float64(24), object(1)\n",
            "memory usage: 1.1+ MB\n"
          ]
        }
      ]
    },
    {
      "cell_type": "code",
      "source": [
        "train.drop(['User'],axis=1,inplace=True)\n"
      ],
      "metadata": {
        "id": "x6PjqXUlrlkY"
      },
      "execution_count": null,
      "outputs": []
    },
    {
      "cell_type": "code",
      "source": [
        "print(train.columns)"
      ],
      "metadata": {
        "colab": {
          "base_uri": "https://localhost:8080/"
        },
        "id": "jj2T8UkDvy-l",
        "outputId": "f6ee2077-05b8-46af-f721-72d1ea3689d2"
      },
      "execution_count": null,
      "outputs": [
        {
          "output_type": "stream",
          "name": "stdout",
          "text": [
            "Index(['Category 1', 'Category 2', 'Category 3', 'Category 4', 'Category 5',\n",
            "       'Category 6', 'Category 7', 'Category 8', 'Category 9', 'Category 10',\n",
            "       'Category 11', 'Category 12', 'Category 13', 'Category 14',\n",
            "       'Category 15', 'Category 16', 'Category 17', 'Category 18',\n",
            "       'Category 19', 'Category 20', 'Category 21', 'Category 22',\n",
            "       'Category 23', 'Category 24'],\n",
            "      dtype='object')\n"
          ]
        }
      ]
    },
    {
      "cell_type": "markdown",
      "source": [
        "Kmeans clustering"
      ],
      "metadata": {
        "id": "2mpuBKRdwAkK"
      }
    },
    {
      "cell_type": "code",
      "source": [
        "inertia=[]\n",
        "for i in range(1,20):\n",
        "  kmeans=KMeans(n_clusters=i)\n",
        "  kmeans.fit(train)\n",
        "  inertia.append(kmeans.inertia_)"
      ],
      "metadata": {
        "id": "3S9FkfXOwCi7",
        "colab": {
          "base_uri": "https://localhost:8080/"
        },
        "outputId": "169b27e5-6f30-427f-b752-e5183aaff401"
      },
      "execution_count": null,
      "outputs": [
        {
          "output_type": "stream",
          "name": "stderr",
          "text": [
            "/usr/local/lib/python3.10/dist-packages/sklearn/cluster/_kmeans.py:870: FutureWarning: The default value of `n_init` will change from 10 to 'auto' in 1.4. Set the value of `n_init` explicitly to suppress the warning\n",
            "  warnings.warn(\n",
            "/usr/local/lib/python3.10/dist-packages/sklearn/cluster/_kmeans.py:870: FutureWarning: The default value of `n_init` will change from 10 to 'auto' in 1.4. Set the value of `n_init` explicitly to suppress the warning\n",
            "  warnings.warn(\n",
            "/usr/local/lib/python3.10/dist-packages/sklearn/cluster/_kmeans.py:870: FutureWarning: The default value of `n_init` will change from 10 to 'auto' in 1.4. Set the value of `n_init` explicitly to suppress the warning\n",
            "  warnings.warn(\n",
            "/usr/local/lib/python3.10/dist-packages/sklearn/cluster/_kmeans.py:870: FutureWarning: The default value of `n_init` will change from 10 to 'auto' in 1.4. Set the value of `n_init` explicitly to suppress the warning\n",
            "  warnings.warn(\n",
            "/usr/local/lib/python3.10/dist-packages/sklearn/cluster/_kmeans.py:870: FutureWarning: The default value of `n_init` will change from 10 to 'auto' in 1.4. Set the value of `n_init` explicitly to suppress the warning\n",
            "  warnings.warn(\n",
            "/usr/local/lib/python3.10/dist-packages/sklearn/cluster/_kmeans.py:870: FutureWarning: The default value of `n_init` will change from 10 to 'auto' in 1.4. Set the value of `n_init` explicitly to suppress the warning\n",
            "  warnings.warn(\n",
            "/usr/local/lib/python3.10/dist-packages/sklearn/cluster/_kmeans.py:870: FutureWarning: The default value of `n_init` will change from 10 to 'auto' in 1.4. Set the value of `n_init` explicitly to suppress the warning\n",
            "  warnings.warn(\n",
            "/usr/local/lib/python3.10/dist-packages/sklearn/cluster/_kmeans.py:870: FutureWarning: The default value of `n_init` will change from 10 to 'auto' in 1.4. Set the value of `n_init` explicitly to suppress the warning\n",
            "  warnings.warn(\n",
            "/usr/local/lib/python3.10/dist-packages/sklearn/cluster/_kmeans.py:870: FutureWarning: The default value of `n_init` will change from 10 to 'auto' in 1.4. Set the value of `n_init` explicitly to suppress the warning\n",
            "  warnings.warn(\n",
            "/usr/local/lib/python3.10/dist-packages/sklearn/cluster/_kmeans.py:870: FutureWarning: The default value of `n_init` will change from 10 to 'auto' in 1.4. Set the value of `n_init` explicitly to suppress the warning\n",
            "  warnings.warn(\n",
            "/usr/local/lib/python3.10/dist-packages/sklearn/cluster/_kmeans.py:870: FutureWarning: The default value of `n_init` will change from 10 to 'auto' in 1.4. Set the value of `n_init` explicitly to suppress the warning\n",
            "  warnings.warn(\n",
            "/usr/local/lib/python3.10/dist-packages/sklearn/cluster/_kmeans.py:870: FutureWarning: The default value of `n_init` will change from 10 to 'auto' in 1.4. Set the value of `n_init` explicitly to suppress the warning\n",
            "  warnings.warn(\n",
            "/usr/local/lib/python3.10/dist-packages/sklearn/cluster/_kmeans.py:870: FutureWarning: The default value of `n_init` will change from 10 to 'auto' in 1.4. Set the value of `n_init` explicitly to suppress the warning\n",
            "  warnings.warn(\n",
            "/usr/local/lib/python3.10/dist-packages/sklearn/cluster/_kmeans.py:870: FutureWarning: The default value of `n_init` will change from 10 to 'auto' in 1.4. Set the value of `n_init` explicitly to suppress the warning\n",
            "  warnings.warn(\n",
            "/usr/local/lib/python3.10/dist-packages/sklearn/cluster/_kmeans.py:870: FutureWarning: The default value of `n_init` will change from 10 to 'auto' in 1.4. Set the value of `n_init` explicitly to suppress the warning\n",
            "  warnings.warn(\n",
            "/usr/local/lib/python3.10/dist-packages/sklearn/cluster/_kmeans.py:870: FutureWarning: The default value of `n_init` will change from 10 to 'auto' in 1.4. Set the value of `n_init` explicitly to suppress the warning\n",
            "  warnings.warn(\n",
            "/usr/local/lib/python3.10/dist-packages/sklearn/cluster/_kmeans.py:870: FutureWarning: The default value of `n_init` will change from 10 to 'auto' in 1.4. Set the value of `n_init` explicitly to suppress the warning\n",
            "  warnings.warn(\n",
            "/usr/local/lib/python3.10/dist-packages/sklearn/cluster/_kmeans.py:870: FutureWarning: The default value of `n_init` will change from 10 to 'auto' in 1.4. Set the value of `n_init` explicitly to suppress the warning\n",
            "  warnings.warn(\n",
            "/usr/local/lib/python3.10/dist-packages/sklearn/cluster/_kmeans.py:870: FutureWarning: The default value of `n_init` will change from 10 to 'auto' in 1.4. Set the value of `n_init` explicitly to suppress the warning\n",
            "  warnings.warn(\n"
          ]
        }
      ]
    },
    {
      "cell_type": "code",
      "source": [
        "plt.plot(range(1,20), inertia, 'o-')\n",
        "plt.xlabel(\"Number of Clusters\")\n",
        "plt.ylabel(\"WCSS/Inertia\")\n",
        "plt.title(\"Elbow Curve for KMeans Clustering\")\n",
        "plt.show"
      ],
      "metadata": {
        "id": "RkSKCYbhwCo-",
        "colab": {
          "base_uri": "https://localhost:8080/",
          "height": 641
        },
        "outputId": "9deb5b99-5d68-4476-9335-b7f70ef514fc"
      },
      "execution_count": null,
      "outputs": [
        {
          "output_type": "execute_result",
          "data": {
            "text/plain": [
              "<function matplotlib.pyplot.show(close=None, block=None)>"
            ],
            "text/html": [
              "<div style=\"max-width:800px; border: 1px solid var(--colab-border-color);\"><style>\n",
              "      pre.function-repr-contents {\n",
              "        overflow-x: auto;\n",
              "        padding: 8px 12px;\n",
              "        max-height: 500px;\n",
              "      }\n",
              "\n",
              "      pre.function-repr-contents.function-repr-contents-collapsed {\n",
              "        cursor: pointer;\n",
              "        max-height: 100px;\n",
              "      }\n",
              "    </style>\n",
              "    <pre style=\"white-space: initial; background:\n",
              "         var(--colab-secondary-surface-color); padding: 8px 12px;\n",
              "         border-bottom: 1px solid var(--colab-border-color);\"><b>matplotlib.pyplot.show</b><br/>def show(*args, **kwargs)</pre><pre class=\"function-repr-contents function-repr-contents-collapsed\" style=\"\"><a class=\"filepath\" style=\"display:none\" href=\"#\">/usr/local/lib/python3.10/dist-packages/matplotlib/pyplot.py</a>Display all open figures.\n",
              "\n",
              "Parameters\n",
              "----------\n",
              "block : bool, optional\n",
              "    Whether to wait for all figures to be closed before returning.\n",
              "\n",
              "    If `True` block and run the GUI main loop until all figure windows\n",
              "    are closed.\n",
              "\n",
              "    If `False` ensure that all figure windows are displayed and return\n",
              "    immediately.  In this case, you are responsible for ensuring\n",
              "    that the event loop is running to have responsive figures.\n",
              "\n",
              "    Defaults to True in non-interactive mode and to False in interactive\n",
              "    mode (see `.pyplot.isinteractive`).\n",
              "\n",
              "See Also\n",
              "--------\n",
              "ion : Enable interactive mode, which shows / updates the figure after\n",
              "      every plotting command, so that calling ``show()`` is not necessary.\n",
              "ioff : Disable interactive mode.\n",
              "savefig : Save the figure to an image file instead of showing it on screen.\n",
              "\n",
              "Notes\n",
              "-----\n",
              "**Saving figures to file and showing a window at the same time**\n",
              "\n",
              "If you want an image file as well as a user interface window, use\n",
              "`.pyplot.savefig` before `.pyplot.show`. At the end of (a blocking)\n",
              "``show()`` the figure is closed and thus unregistered from pyplot. Calling\n",
              "`.pyplot.savefig` afterwards would save a new and thus empty figure. This\n",
              "limitation of command order does not apply if the show is non-blocking or\n",
              "if you keep a reference to the figure and use `.Figure.savefig`.\n",
              "\n",
              "**Auto-show in jupyter notebooks**\n",
              "\n",
              "The jupyter backends (activated via ``%matplotlib inline``,\n",
              "``%matplotlib notebook``, or ``%matplotlib widget``), call ``show()`` at\n",
              "the end of every cell by default. Thus, you usually don&#x27;t have to call it\n",
              "explicitly there.</pre>\n",
              "      <script>\n",
              "      if (google.colab.kernel.accessAllowed && google.colab.files && google.colab.files.view) {\n",
              "        for (const element of document.querySelectorAll('.filepath')) {\n",
              "          element.style.display = 'block'\n",
              "          element.onclick = (event) => {\n",
              "            event.preventDefault();\n",
              "            event.stopPropagation();\n",
              "            google.colab.files.view(element.textContent, 401);\n",
              "          };\n",
              "        }\n",
              "      }\n",
              "      for (const element of document.querySelectorAll('.function-repr-contents')) {\n",
              "        element.onclick = (event) => {\n",
              "          event.preventDefault();\n",
              "          event.stopPropagation();\n",
              "          element.classList.toggle('function-repr-contents-collapsed');\n",
              "        };\n",
              "      }\n",
              "      </script>\n",
              "      </div>"
            ]
          },
          "metadata": {},
          "execution_count": 27
        },
        {
          "output_type": "display_data",
          "data": {
            "text/plain": [
              "<Figure size 640x480 with 1 Axes>"
            ],
            "image/png": "[encoded data removed]"
          },
          "metadata": {}
        }
      ]
    },
    {
      "cell_type": "code",
      "source": [
        "kmeans=KMeans(n_clusters=3,random_state=123)\n",
        "kmeans.fit(train)\n",
        "train['Cluster']=kmeans.labels_"
      ],
      "metadata": {
        "colab": {
          "base_uri": "https://localhost:8080/"
        },
        "id": "mmqCA6HAw8rf",
        "outputId": "afc538ab-c9e7-4a7f-a3a9-d9b63e96df25"
      },
      "execution_count": null,
      "outputs": [
        {
          "output_type": "stream",
          "name": "stderr",
          "text": [
            "/usr/local/lib/python3.10/dist-packages/sklearn/cluster/_kmeans.py:870: FutureWarning: The default value of `n_init` will change from 10 to 'auto' in 1.4. Set the value of `n_init` explicitly to suppress the warning\n",
            "  warnings.warn(\n"
          ]
        }
      ]
    },
    {
      "cell_type": "code",
      "source": [
        "train['Cluster'].value_counts().plot(kind='bar')"
      ],
      "metadata": {
        "colab": {
          "base_uri": "https://localhost:8080/",
          "height": 461
        },
        "id": "ienu8kznxB44",
        "outputId": "6b425cfd-3f4d-4c56-8783-3bfa6f846c46"
      },
      "execution_count": null,
      "outputs": [
        {
          "output_type": "execute_result",
          "data": {
            "text/plain": [
              "<Axes: xlabel='Cluster'>"
            ]
          },
          "metadata": {},
          "execution_count": 29
        },
        {
          "output_type": "display_data",
          "data": {
            "text/plain": [
              "<Figure size 640x480 with 1 Axes>"
            ],
            "image/png": "[encoded data removed]"
          },
          "metadata": {}
        }
      ]
    },
    {
      "cell_type": "code",
      "source": [
        "kmeans.cluster_centers_"
      ],
      "metadata": {
        "colab": {
          "base_uri": "https://localhost:8080/"
        },
        "id": "s2p7fFEHxDgv",
        "outputId": "714add48-9bb5-4594-c19c-ef7f3ac0c84a"
      },
      "execution_count": null,
      "outputs": [
        {
          "output_type": "execute_result",
          "data": {
            "text/plain": [
              "array([[2.24457379, 2.73020165, 2.59208066, 2.38588451, 2.10215399,\n",
              "        1.91896425, 2.00383135, 1.579945  , 1.90560037, 1.61520623,\n",
              "        1.55026581, 1.412044  , 1.49981668, 1.82496792, 2.32709441,\n",
              "        1.66552704, 1.7631714 , 1.80233731, 2.27847846, 2.15487626,\n",
              "        1.80668194, 2.73398717, 2.36344638, 2.45506874],\n",
              "       [1.09205452, 1.94042311, 1.9162083 , 2.0999105 , 2.25357201,\n",
              "        2.70848251, 3.91685924, 3.08122457, 4.01905207, 3.57362083,\n",
              "        3.18189992, 2.49043938, 2.57981286, 2.9225834 , 2.87289666,\n",
              "        1.06146867, 0.76936127, 0.60867372, 0.70314076, 0.73216029,\n",
              "        0.69720911, 0.99498779, 0.90333198, 1.06028478],\n",
              "       [1.47303253, 2.57420252, 3.17016264, 3.9318468 , 4.35998426,\n",
              "        3.69081322, 3.39461175, 2.39456453, 2.67373033, 2.57522036,\n",
              "        2.30754984, 1.92827912, 1.89846275, 1.45518888, 1.27682057,\n",
              "        1.09163694, 0.71513116, 0.53703043, 0.56251312, 0.68275971,\n",
              "        0.82884575, 2.16026758, 1.86343127, 1.6934575 ]])"
            ]
          },
          "metadata": {},
          "execution_count": 30
        }
      ]
    },
    {
      "cell_type": "code",
      "source": [
        "from sklearn.metrics import silhouette_score"
      ],
      "metadata": {
        "id": "kdvqT3WWxbvc"
      },
      "execution_count": null,
      "outputs": []
    },
    {
      "cell_type": "code",
      "source": [
        "print(silhouette_score(train, kmeans.fit_predict(train)))"
      ],
      "metadata": {
        "colab": {
          "base_uri": "https://localhost:8080/"
        },
        "id": "DZW0sMsRxRqA",
        "outputId": "04c8d5da-6c9a-41e8-8a69-b0ca7de8315a"
      },
      "execution_count": null,
      "outputs": [
        {
          "output_type": "stream",
          "name": "stderr",
          "text": [
            "/usr/local/lib/python3.10/dist-packages/sklearn/cluster/_kmeans.py:870: FutureWarning: The default value of `n_init` will change from 10 to 'auto' in 1.4. Set the value of `n_init` explicitly to suppress the warning\n",
            "  warnings.warn(\n"
          ]
        },
        {
          "output_type": "stream",
          "name": "stdout",
          "text": [
            "0.1541922307993935\n"
          ]
        }
      ]
    },
    {
      "cell_type": "markdown",
      "source": [
        "Hierarchical clustering"
      ],
      "metadata": {
        "id": "yYul8FBwyV6-"
      }
    },
    {
      "cell_type": "code",
      "source": [
        "# Perform hierarchical clustering (linkage calculation)\n",
        "distance_matrix = linkage(train, method='ward')  # Ward's method for minimizing variance\n",
        "\n",
        "# Generate the dendrogram\n",
        "plt.figure(figsize=(10, 6))  # Adjust figure size as desired\n",
        "dendrogram(distance_matrix, labels=np.arange(len(train)))  # Labels for data points\n",
        "plt.title(\"Hierarchical Clustering Dendrogram\")\n",
        "plt.xlabel(\"Number of points in node (or index of point if no parenthesis)\")\n",
        "plt.ylabel(\"Distance\")\n",
        "plt.show()"
      ],
      "metadata": {
        "colab": {
          "base_uri": "https://localhost:8080/",
          "height": 568
        },
        "id": "j0dPo5AkyYou",
        "outputId": "c899788e-b041-4e9c-bbfc-d9c50227b109"
      },
      "execution_count": null,
      "outputs": [
        {
          "output_type": "display_data",
          "data": {
            "text/plain": [
              "<Figure size 1000x600 with 1 Axes>"
            ],
            "image/png": "[encoded data removed]"
          },
          "metadata": {}
        }
      ]
    },
    {
      "cell_type": "code",
      "source": [
        "distance_matrix"
      ],
      "metadata": {
        "colab": {
          "base_uri": "https://localhost:8080/"
        },
        "id": "-Z_eL8ea1NzB",
        "outputId": "45331c1c-2239-4c66-d9a9-708ed23e8f96"
      },
      "execution_count": null,
      "outputs": [
        {
          "output_type": "execute_result",
          "data": {
            "text/plain": [
              "array([[2.00000000e+00, 4.00000000e+00, 0.00000000e+00, 2.00000000e+00],\n",
              "       [1.33800000e+03, 1.34600000e+03, 0.00000000e+00, 2.00000000e+00],\n",
              "       [6.70000000e+02, 6.74000000e+02, 0.00000000e+00, 2.00000000e+00],\n",
              "       ...,\n",
              "       [1.09030000e+04, 1.09040000e+04, 1.71599735e+02, 2.51100000e+03],\n",
              "       [1.09010000e+04, 1.09050000e+04, 1.98791277e+02, 2.94400000e+03],\n",
              "       [1.09060000e+04, 1.09070000e+04, 2.35369952e+02, 5.45500000e+03]])"
            ]
          },
          "metadata": {},
          "execution_count": 35
        }
      ]
    },
    {
      "cell_type": "markdown",
      "source": [
        "agglomerative clustering"
      ],
      "metadata": {
        "id": "XTGIl9YJ10na"
      }
    },
    {
      "cell_type": "code",
      "source": [
        "from sklearn.cluster import AgglomerativeClustering"
      ],
      "metadata": {
        "id": "a_te-opM1_E6"
      },
      "execution_count": null,
      "outputs": []
    },
    {
      "cell_type": "code",
      "source": [
        "agg=AgglomerativeClustering(n_clusters=3)\n",
        "agg.fit(train)"
      ],
      "metadata": {
        "colab": {
          "base_uri": "https://localhost:8080/",
          "height": 74
        },
        "id": "z_0AFltn2VBs",
        "outputId": "5a65e8a0-f011-4995-a877-90386de1ca2d"
      },
      "execution_count": null,
      "outputs": [
        {
          "output_type": "execute_result",
          "data": {
            "text/plain": [
              "AgglomerativeClustering(n_clusters=3)"
            ],
            "text/html": [
              "<style>#sk-container-id-1 {color: black;background-color: white;}#sk-container-id-1 pre{padding: 0;}#sk-container-id-1 div.sk-toggleable {background-color: white;}#sk-container-id-1 label.sk-toggleable__label {cursor: pointer;display: block;width: 100%;margin-bottom: 0;padding: 0.3em;box-sizing: border-box;text-align: center;}#sk-container-id-1 label.sk-toggleable__label-arrow:before {content: \"▸\";float: left;margin-right: 0.25em;color: #696969;}#sk-container-id-1 label.sk-toggleable__label-arrow:hover:before {color: black;}#sk-container-id-1 div.sk-estimator:hover label.sk-toggleable__label-arrow:before {color: black;}#sk-container-id-1 div.sk-toggleable__content {max-height: 0;max-width: 0;overflow: hidden;text-align: left;background-color: #f0f8ff;}#sk-container-id-1 div.sk-toggleable__content pre {margin: 0.2em;color: black;border-radius: 0.25em;background-color: #f0f8ff;}#sk-container-id-1 input.sk-toggleable__control:checked~div.sk-toggleable__content {max-height: 200px;max-width: 100%;overflow: auto;}#sk-container-id-1 input.sk-toggleable__control:checked~label.sk-toggleable__label-arrow:before {content: \"▾\";}#sk-container-id-1 div.sk-estimator input.sk-toggleable__control:checked~label.sk-toggleable__label {background-color: #d4ebff;}#sk-container-id-1 div.sk-label input.sk-toggleable__control:checked~label.sk-toggleable__label {background-color: #d4ebff;}#sk-container-id-1 input.sk-hidden--visually {border: 0;clip: rect(1px 1px 1px 1px);clip: rect(1px, 1px, 1px, 1px);height: 1px;margin: -1px;overflow: hidden;padding: 0;position: absolute;width: 1px;}#sk-container-id-1 div.sk-estimator {font-family: monospace;background-color: #f0f8ff;border: 1px dotted black;border-radius: 0.25em;box-sizing: border-box;margin-bottom: 0.5em;}#sk-container-id-1 div.sk-estimator:hover {background-color: #d4ebff;}#sk-container-id-1 div.sk-parallel-item::after {content: \"\";width: 100%;border-bottom: 1px solid gray;flex-grow: 1;}#sk-container-id-1 div.sk-label:hover label.sk-toggleable__label {background-color: #d4ebff;}#sk-container-id-1 div.sk-serial::before {content: \"\";position: absolute;border-left: 1px solid gray;box-sizing: border-box;top: 0;bottom: 0;left: 50%;z-index: 0;}#sk-container-id-1 div.sk-serial {display: flex;flex-direction: column;align-items: center;background-color: white;padding-right: 0.2em;padding-left: 0.2em;position: relative;}#sk-container-id-1 div.sk-item {position: relative;z-index: 1;}#sk-container-id-1 div.sk-parallel {display: flex;align-items: stretch;justify-content: center;background-color: white;position: relative;}#sk-container-id-1 div.sk-item::before, #sk-container-id-1 div.sk-parallel-item::before {content: \"\";position: absolute;border-left: 1px solid gray;box-sizing: border-box;top: 0;bottom: 0;left: 50%;z-index: -1;}#sk-container-id-1 div.sk-parallel-item {display: flex;flex-direction: column;z-index: 1;position: relative;background-color: white;}#sk-container-id-1 div.sk-parallel-item:first-child::after {align-self: flex-end;width: 50%;}#sk-container-id-1 div.sk-parallel-item:last-child::after {align-self: flex-start;width: 50%;}#sk-container-id-1 div.sk-parallel-item:only-child::after {width: 0;}#sk-container-id-1 div.sk-dashed-wrapped {border: 1px dashed gray;margin: 0 0.4em 0.5em 0.4em;box-sizing: border-box;padding-bottom: 0.4em;background-color: white;}#sk-container-id-1 div.sk-label label {font-family: monospace;font-weight: bold;display: inline-block;line-height: 1.2em;}#sk-container-id-1 div.sk-label-container {text-align: center;}#sk-container-id-1 div.sk-container {/* jupyter's `normalize.less` sets `[hidden] { display: none; }` but bootstrap.min.css set `[hidden] { display: none !important; }` so we also need the `!important` here to be able to override the default hidden behavior on the sphinx rendered scikit-learn.org. See: https://github.com/scikit-learn/scikit-learn/issues/21755 */display: inline-block !important;position: relative;}#sk-container-id-1 div.sk-text-repr-fallback {display: none;}</style><div id=\"sk-container-id-1\" class=\"sk-top-container\"><div class=\"sk-text-repr-fallback\"><pre>AgglomerativeClustering(n_clusters=3)</pre><b>In a Jupyter environment, please rerun this cell to show the HTML representation or trust the notebook. <br />On GitHub, the HTML representation is unable to render, please try loading this page with nbviewer.org.</b></div><div class=\"sk-container\" hidden><div class=\"sk-item\"><div class=\"sk-estimator sk-toggleable\"><input class=\"sk-toggleable__control sk-hidden--visually\" id=\"sk-estimator-id-1\" type=\"checkbox\" checked><label for=\"sk-estimator-id-1\" class=\"sk-toggleable__label sk-toggleable__label-arrow\">AgglomerativeClustering</label><div class=\"sk-toggleable__content\"><pre>AgglomerativeClustering(n_clusters=3)</pre></div></div></div></div></div>"
            ]
          },
          "metadata": {},
          "execution_count": 38
        }
      ]
    },
    {
      "cell_type": "code",
      "source": [
        "print(round(silhouette_score(train,agg.fit_predict(train)),2))"
      ],
      "metadata": {
        "colab": {
          "base_uri": "https://localhost:8080/"
        },
        "id": "s6vxDz0Z2k_8",
        "outputId": "f747d456-f782-451e-b569-796253f60a04"
      },
      "execution_count": null,
      "outputs": [
        {
          "output_type": "stream",
          "name": "stdout",
          "text": [
            "0.13\n"
          ]
        }
      ]
    }
  ]
}